{
  "nbformat": 4,
  "nbformat_minor": 0,
  "metadata": {
    "colab": {
      "provenance": []
    },
    "kernelspec": {
      "name": "python3",
      "display_name": "Python 3"
    },
    "language_info": {
      "name": "python"
    }
  },
  "cells": [
    {
      "cell_type": "markdown",
      "source": [
        "# Set up the data\n"
      ],
      "metadata": {
        "id": "TY7cWyUExSTc"
      }
    },
    {
      "cell_type": "markdown",
      "source": [
        "Generate a small dataset. Here we will create a small linear regression dataset with a single feature and target variable."
      ],
      "metadata": {
        "id": "zUH-iBDXw__1"
      }
    },
    {
      "cell_type": "code",
      "execution_count": 2,
      "metadata": {
        "colab": {
          "base_uri": "https://localhost:8080/"
        },
        "id": "PTpH9gKKw_K0",
        "outputId": "6d8e66be-5517-474b-aa45-1441fe094789"
      },
      "outputs": [
        {
          "output_type": "stream",
          "name": "stdout",
          "text": [
            "Feature data (x) \n",
            " [[6.45818606]\n",
            " [6.7517417 ]\n",
            " [9.70703986]\n",
            " [8.84804364]\n",
            " [9.09065843]\n",
            " [8.23592966]\n",
            " [4.86709721]\n",
            " [6.2099358 ]\n",
            " [6.43512463]\n",
            " [4.00369566]\n",
            " [8.75219111]\n",
            " [6.08606454]\n",
            " [1.0669999 ]\n",
            " [2.54308892]\n",
            " [0.35469997]\n",
            " [5.01164227]\n",
            " [6.17444704]\n",
            " [3.15636288]\n",
            " [3.40152271]\n",
            " [1.99828184]]\n",
            "Target data (y) \n",
            " [[55.05915308]\n",
            " [57.53338736]\n",
            " [87.1818016 ]\n",
            " [78.54157928]\n",
            " [81.0589224 ]\n",
            " [72.51604476]\n",
            " [39.02552645]\n",
            " [52.1207629 ]\n",
            " [54.49800451]\n",
            " [30.43902163]\n",
            " [77.8258464 ]\n",
            " [51.11891308]\n",
            " [ 0.72323428]\n",
            " [15.52571864]\n",
            " [-6.38869588]\n",
            " [40.19900474]\n",
            " [52.12833383]\n",
            " [22.04917678]\n",
            " [24.16963547]\n",
            " [10.17510268]]\n"
          ]
        }
      ],
      "source": [
        "import numpy as np\n",
        "\n",
        "np.random.seed(31415)\n",
        "\n",
        "n_samples = 1000\n",
        "\n",
        "a = 10\n",
        "\n",
        "b = -10\n",
        "\n",
        "noise = 0.5\n",
        "\n",
        "x = np.random.rand(n_samples, 1) * 10\n",
        "y = a * x + b + np.random.rand(n_samples , 1)*noise\n",
        "\n",
        "\n",
        "print(\"Feature data (x) \\n\", x[:20])\n",
        "print(\"Target data (y) \\n\", y[:20])"
      ]
    },
    {
      "cell_type": "markdown",
      "source": [
        "Organize the dataset as an array, with each row representing a data sample and its corresponding target"
      ],
      "metadata": {
        "id": "PPkgz_bkxIuy"
      }
    },
    {
      "cell_type": "code",
      "source": [
        "data = np.hstack((x,y))\n",
        "\n",
        "print(\"Organized data (Feature, Target) is: \\n\", data[:20])"
      ],
      "metadata": {
        "colab": {
          "base_uri": "https://localhost:8080/"
        },
        "id": "VXQlVmLixmqS",
        "outputId": "4de5dae5-e749-4b0b-bfd1-70dbb691aeb1"
      },
      "execution_count": 3,
      "outputs": [
        {
          "output_type": "stream",
          "name": "stdout",
          "text": [
            "Organized data (Feature, Target) is: \n",
            " [[ 6.45818606 55.05915308]\n",
            " [ 6.7517417  57.53338736]\n",
            " [ 9.70703986 87.1818016 ]\n",
            " [ 8.84804364 78.54157928]\n",
            " [ 9.09065843 81.0589224 ]\n",
            " [ 8.23592966 72.51604476]\n",
            " [ 4.86709721 39.02552645]\n",
            " [ 6.2099358  52.1207629 ]\n",
            " [ 6.43512463 54.49800451]\n",
            " [ 4.00369566 30.43902163]\n",
            " [ 8.75219111 77.8258464 ]\n",
            " [ 6.08606454 51.11891308]\n",
            " [ 1.0669999   0.72323428]\n",
            " [ 2.54308892 15.52571864]\n",
            " [ 0.35469997 -6.38869588]\n",
            " [ 5.01164227 40.19900474]\n",
            " [ 6.17444704 52.12833383]\n",
            " [ 3.15636288 22.04917678]\n",
            " [ 3.40152271 24.16963547]\n",
            " [ 1.99828184 10.17510268]]\n"
          ]
        }
      ]
    },
    {
      "cell_type": "markdown",
      "source": [
        "# Implement mini-batch"
      ],
      "metadata": {
        "id": "fkVOsK87xUnA"
      }
    },
    {
      "cell_type": "markdown",
      "source": [
        "Define a function to split the dataset into mini-batches of specified size"
      ],
      "metadata": {
        "id": "w8q_AYSsxW0i"
      }
    },
    {
      "cell_type": "code",
      "source": [
        "def create_mini_batches(data, batch_size):\n",
        "  ''' Split the dataset into mini-batches, each of size batch_size.\n",
        "  Parameters:\n",
        "  - data: the numpy array containing feature and target labels\n",
        "  - batch_size: the number of samples per mini-batch\n",
        "\n",
        "  Returns:\n",
        "  - A list of mini-batches, where each mini-batch is a numpy array of the shape (batch_size, 2)\n",
        "  '''\n",
        "  np.random.shuffle(data)\n",
        "\n",
        "  mini_batches = []\n",
        "\n",
        "  for i in range(0, len(data), batch_size):\n",
        "    mini_batch = data[i: i + batch_size]\n",
        "    mini_batches.append(mini_batch)\n",
        "\n",
        "  return mini_batches"
      ],
      "metadata": {
        "id": "c7WY9iMAxmRC"
      },
      "execution_count": 4,
      "outputs": []
    },
    {
      "cell_type": "code",
      "source": [
        "batch_size = 32\n",
        "mini_batches = create_mini_batches(data, batch_size)\n",
        "\n",
        "print(\"First mini batch is : \\n\", mini_batches[0])\n",
        "print(\"2nd mini batch has \", len(mini_batches[1]))\n",
        "print(\"Second mini batch is: \\n\", mini_batches[1])\n",
        "print(\"29th mini batch is: \\n\", mini_batches[28])\n",
        "print(\"We have a total of this many mini batches \\n\", len(mini_batches))"
      ],
      "metadata": {
        "colab": {
          "base_uri": "https://localhost:8080/"
        },
        "id": "JrU8JN-e0j-u",
        "outputId": "b8f5c57c-891e-4f1e-f285-e51a40431f05"
      },
      "execution_count": 8,
      "outputs": [
        {
          "output_type": "stream",
          "name": "stdout",
          "text": [
            "First mini batch is : \n",
            " [[ 2.95510791e+00  1.96047536e+01]\n",
            " [ 3.38533669e+00  2.39556231e+01]\n",
            " [ 2.02962126e+00  1.05260549e+01]\n",
            " [ 8.26347611e+00  7.29153498e+01]\n",
            " [ 7.14616025e+00  6.15377226e+01]\n",
            " [ 7.69326172e+00  6.73966641e+01]\n",
            " [ 4.44576153e+00  3.48544475e+01]\n",
            " [ 9.90733417e-01 -3.18076116e-02]\n",
            " [ 6.84321391e+00  5.88301878e+01]\n",
            " [ 2.93722392e+00  1.94178430e+01]\n",
            " [ 6.63129890e+00  5.66866175e+01]\n",
            " [ 4.93352964e+00  3.93592762e+01]\n",
            " [ 3.15971114e+00  2.20821677e+01]\n",
            " [ 5.37165948e+00  4.40304608e+01]\n",
            " [ 3.00040914e+00  2.04345271e+01]\n",
            " [ 6.13331842e+00  5.17709814e+01]\n",
            " [ 1.59463458e-01 -7.96887566e+00]\n",
            " [ 5.22762943e+00  4.27027614e+01]\n",
            " [ 6.43512463e+00  5.44980045e+01]\n",
            " [ 7.93764638e-01 -1.59069355e+00]\n",
            " [ 3.17618619e+00  2.20189191e+01]\n",
            " [ 3.04639130e+00  2.05696199e+01]\n",
            " [ 7.85085719e-01 -1.85964941e+00]\n",
            " [ 4.71481691e+00  3.71882250e+01]\n",
            " [ 8.61749350e+00  7.65576582e+01]\n",
            " [ 1.07122997e+00  1.17797844e+00]\n",
            " [ 2.66496041e+00  1.71355617e+01]\n",
            " [ 4.59609906e+00  3.61938945e+01]\n",
            " [ 1.78950526e+00  8.26622659e+00]\n",
            " [ 2.02713489e+00  1.03898840e+01]\n",
            " [ 3.43221709e+00  2.46687816e+01]\n",
            " [ 6.37458867e+00  5.40223442e+01]]\n",
            "2nd mini batch has  32\n",
            "Second mini batch is: \n",
            " [[ 7.97902552e+00  6.99861304e+01]\n",
            " [ 8.03755463e+00  7.07993175e+01]\n",
            " [ 4.51400994e+00  3.54171819e+01]\n",
            " [ 6.36981012e-01 -3.35951950e+00]\n",
            " [ 8.82956452e+00  7.87201017e+01]\n",
            " [ 1.38797222e-02 -9.69981898e+00]\n",
            " [ 5.15858677e+00  4.19357237e+01]\n",
            " [ 8.06374881e+00  7.07775815e+01]\n",
            " [ 4.22322572e+00  3.25287474e+01]\n",
            " [ 7.02469622e+00  6.04951300e+01]\n",
            " [ 4.40248572e+00  3.44204765e+01]\n",
            " [ 1.64308016e+00  6.81903895e+00]\n",
            " [ 9.75749921e+00  8.77434128e+01]\n",
            " [ 9.84417766e+00  8.85629974e+01]\n",
            " [ 4.84046659e+00  3.84905099e+01]\n",
            " [ 5.18985538e+00  4.23069496e+01]\n",
            " [ 6.22492122e+00  5.26980233e+01]\n",
            " [ 9.60037038e+00  8.60290044e+01]\n",
            " [ 4.50706538e-01 -5.19166139e+00]\n",
            " [ 9.53859154e+00  8.56674097e+01]\n",
            " [ 5.36286927e+00  4.36786876e+01]\n",
            " [ 7.74054992e+00  6.77027463e+01]\n",
            " [ 6.14848277e+00  5.19084705e+01]\n",
            " [ 6.02775450e+00  5.07346013e+01]\n",
            " [ 9.60476598e+00  8.62460226e+01]\n",
            " [ 4.04641286e+00  3.07796978e+01]\n",
            " [ 5.87189059e+00  4.90591919e+01]\n",
            " [ 2.76930259e+00  1.81477681e+01]\n",
            " [ 8.14349004e+00  7.16213229e+01]\n",
            " [ 8.29270201e+00  7.33676412e+01]\n",
            " [ 7.97834893e+00  6.98124419e+01]\n",
            " [ 8.29326240e+00  7.29649382e+01]]\n",
            "29th mini batch is: \n",
            " [[ 0.47168388 -5.20806788]\n",
            " [ 9.3067625  83.10994237]\n",
            " [ 6.82449785 58.71286645]\n",
            " [ 0.37939812 -5.7777681 ]\n",
            " [ 3.66628471 26.74246901]\n",
            " [ 1.07560161  0.9971601 ]\n",
            " [ 2.91381323 19.1445771 ]\n",
            " [ 4.80381908 38.44753272]\n",
            " [ 9.11057318 81.39222162]\n",
            " [ 6.42281292 54.40080473]\n",
            " [ 8.48022863 75.29610686]\n",
            " [ 7.28236125 63.01652743]\n",
            " [ 7.81936564 68.5851063 ]\n",
            " [ 9.13148694 81.57139978]\n",
            " [ 7.36349478 63.9460298 ]\n",
            " [ 4.34010185 33.58353117]\n",
            " [ 4.86709721 39.02552645]\n",
            " [ 5.6371154  46.39213063]\n",
            " [ 1.04181449  0.58202722]\n",
            " [ 7.24858597 62.62324034]\n",
            " [ 1.64548748  6.81292614]\n",
            " [ 3.01929155 20.38810615]\n",
            " [ 2.40979621 14.57720753]\n",
            " [ 2.13008327 11.69923677]\n",
            " [ 7.88816196 69.18412503]\n",
            " [ 1.27562107  2.98382537]\n",
            " [ 6.05489388 50.87194531]\n",
            " [ 4.4348203  34.52455714]\n",
            " [ 0.35469997 -6.38869588]\n",
            " [ 3.32542219 23.48278675]\n",
            " [ 6.62828831 56.63199501]\n",
            " [ 6.70619519 57.1948931 ]]\n",
            "We have a total of this many mini batches \n",
            " 32\n"
          ]
        }
      ]
    },
    {
      "cell_type": "markdown",
      "source": [
        "Ensure the function handles edge cases (example: the last batch has lesser samples when the total isn't cleanly divided by the batch size)"
      ],
      "metadata": {
        "id": "gdHE2wrSxbpu"
      }
    },
    {
      "cell_type": "code",
      "source": [
        "print(\"the last mini batch has the following elements: \\n\", mini_batches[31])"
      ],
      "metadata": {
        "colab": {
          "base_uri": "https://localhost:8080/"
        },
        "id": "ychPg-NAxl0j",
        "outputId": "d6e18b8b-9fb4-456f-efec-c0901556732f"
      },
      "execution_count": 9,
      "outputs": [
        {
          "output_type": "stream",
          "name": "stdout",
          "text": [
            "the last mini batch has the following elements: \n",
            " [[ 0.8178862  -1.63153736]\n",
            " [ 1.45711572  5.00071615]\n",
            " [ 3.5750251  25.91471817]\n",
            " [ 7.98918017 70.34378477]\n",
            " [ 2.93633734 19.62881111]\n",
            " [ 9.5114649  85.55094691]\n",
            " [ 1.58916861  6.31503502]\n",
            " [ 1.41703619  4.4652463 ]]\n"
          ]
        }
      ]
    },
    {
      "cell_type": "code",
      "source": [
        "print(\"the last mini batch has the following elements: \\n\", mini_batches[-1])"
      ],
      "metadata": {
        "colab": {
          "base_uri": "https://localhost:8080/"
        },
        "id": "7inWH0aj1kqt",
        "outputId": "5a7da3a5-50f4-4482-8c7a-12185d04c916"
      },
      "execution_count": 10,
      "outputs": [
        {
          "output_type": "stream",
          "name": "stdout",
          "text": [
            "the last mini batch has the following elements: \n",
            " [[ 0.8178862  -1.63153736]\n",
            " [ 1.45711572  5.00071615]\n",
            " [ 3.5750251  25.91471817]\n",
            " [ 7.98918017 70.34378477]\n",
            " [ 2.93633734 19.62881111]\n",
            " [ 9.5114649  85.55094691]\n",
            " [ 1.58916861  6.31503502]\n",
            " [ 1.41703619  4.4652463 ]]\n"
          ]
        }
      ]
    },
    {
      "cell_type": "markdown",
      "source": [
        "# Initialize model parameters"
      ],
      "metadata": {
        "id": "wbjZFQw0xnI6"
      }
    },
    {
      "cell_type": "markdown",
      "source": [
        "Create model parameters from scratch, initialize weights and biases as random values\n"
      ],
      "metadata": {
        "id": "BSctru7BxqTJ"
      }
    },
    {
      "cell_type": "code",
      "source": [
        "def initialize_parameters():\n",
        "  weight = np.random.randn()\n",
        "  bias = np.random.randn()\n",
        "  return weight, bias\n",
        "\n",
        "weight, bias = initialize_parameters()\n",
        "\n",
        "print(\"Initialized weight is \", weight)\n",
        "print(\"Initialized bias is \", bias)"
      ],
      "metadata": {
        "colab": {
          "base_uri": "https://localhost:8080/"
        },
        "id": "8gynt6m9xvsF",
        "outputId": "4c08611a-98d3-4015-acbc-208e76e302d0"
      },
      "execution_count": 12,
      "outputs": [
        {
          "output_type": "stream",
          "name": "stdout",
          "text": [
            "Initialized weight is  -0.06985719172709007\n",
            "Initialized bias is  -1.333647536471217\n"
          ]
        }
      ]
    },
    {
      "cell_type": "markdown",
      "source": [
        "# Define the forward pass and loss calculation"
      ],
      "metadata": {
        "id": "0ifdQDdgxvLF"
      }
    },
    {
      "cell_type": "code",
      "source": [
        "def forward_pass(x, weight, bias):\n",
        "  y_pred = x * weight + bias\n",
        "  return y_pred\n",
        "\n",
        "def calculate_mse(y_pred, y_actual):\n",
        "  mse = np.mean((y_pred - y_actual)**2)\n",
        "  return mse\n",
        "\n"
      ],
      "metadata": {
        "id": "cZ892DPyxz5t"
      },
      "execution_count": 13,
      "outputs": []
    },
    {
      "cell_type": "code",
      "source": [
        "batch_x = mini_batches[0][:, 0].reshape(-1,1)\n",
        "batch_y = mini_batches[0][:,1].reshape(-1,1)\n",
        "\n",
        "y_pred = forward_pass(batch_x, weight, bias)\n",
        "loss = calculate_mse(y_pred, batch_y)\n",
        "\n",
        "print(\"Predictions \\n\", y_pred[:10])\n",
        "print(\"Actuals \\n\", batch_y[:10])\n",
        "print(\"MSE Loss \\n\", loss)"
      ],
      "metadata": {
        "colab": {
          "base_uri": "https://localhost:8080/"
        },
        "id": "x3MNRQzhx06F",
        "outputId": "1750350a-d806-4cfc-a450-7ceeed61062c"
      },
      "execution_count": 14,
      "outputs": [
        {
          "output_type": "stream",
          "name": "stdout",
          "text": [
            "Predictions \n",
            " [[-1.54008308]\n",
            " [-1.57013765]\n",
            " [-1.47543118]\n",
            " [-1.91091077]\n",
            " [-1.83285822]\n",
            " [-1.8710772 ]\n",
            " [-1.64421595]\n",
            " [-1.40285739]\n",
            " [-1.81169524]\n",
            " [-1.53883375]]\n",
            "Actuals \n",
            " [[ 1.96047536e+01]\n",
            " [ 2.39556231e+01]\n",
            " [ 1.05260549e+01]\n",
            " [ 7.29153498e+01]\n",
            " [ 6.15377226e+01]\n",
            " [ 6.73966641e+01]\n",
            " [ 3.48544475e+01]\n",
            " [-3.18076116e-02]\n",
            " [ 5.88301878e+01]\n",
            " [ 1.94178430e+01]]\n",
            "MSE Loss \n",
            " 1622.9343439236782\n"
          ]
        }
      ]
    },
    {
      "cell_type": "markdown",
      "source": [
        "# Implement gradient calculation"
      ],
      "metadata": {
        "id": "ih45W-kVx1Gd"
      }
    },
    {
      "cell_type": "markdown",
      "source": [
        "Compute gradients for each mini-batch"
      ],
      "metadata": {
        "id": "JqsTlqmwx5DI"
      }
    },
    {
      "cell_type": "code",
      "source": [
        "def compute_gradients(x, y_actual, y_pred):\n",
        "  batch_size = x.shape[0]\n",
        "  error = y_actual - y_pred\n",
        "  d_weight = (2/batch_size) * np.sum(x*error)\n",
        "  d_bias = (2/batch_size) * np.sum(error)\n",
        "  return d_weight, d_bias"
      ],
      "metadata": {
        "id": "O8zqpbdPx32n"
      },
      "execution_count": 15,
      "outputs": []
    },
    {
      "cell_type": "code",
      "source": [
        "y_pred = forward_pass(batch_x, weight, bias)"
      ],
      "metadata": {
        "id": "Sf_P9qJL31_3"
      },
      "execution_count": 16,
      "outputs": []
    },
    {
      "cell_type": "code",
      "source": [
        "d_weight, d_bias = compute_gradients(batch_x, batch_y, y_pred)"
      ],
      "metadata": {
        "id": "66yj6AFk37uf"
      },
      "execution_count": 17,
      "outputs": []
    },
    {
      "cell_type": "code",
      "source": [
        "print(\"Gradient wrt weight: \", d_weight)"
      ],
      "metadata": {
        "colab": {
          "base_uri": "https://localhost:8080/"
        },
        "id": "gTxa7QpJ4CwV",
        "outputId": "0bf36291-34fb-488b-fced-39073ade1632"
      },
      "execution_count": 18,
      "outputs": [
        {
          "output_type": "stream",
          "name": "stdout",
          "text": [
            "Gradient wrt weight:  376.9163281467138\n"
          ]
        }
      ]
    },
    {
      "cell_type": "code",
      "source": [
        "print(\"Gradient wrt bias: \", d_bias)"
      ],
      "metadata": {
        "colab": {
          "base_uri": "https://localhost:8080/"
        },
        "id": "FNE9_00d4G3f",
        "outputId": "6759308d-2ea1-4083-f042-e14e25df0983"
      },
      "execution_count": 19,
      "outputs": [
        {
          "output_type": "stream",
          "name": "stdout",
          "text": [
            "Gradient wrt bias:  65.57235957753323\n"
          ]
        }
      ]
    },
    {
      "cell_type": "markdown",
      "source": [
        "# Update parameters with mini-batch gradient descent"
      ],
      "metadata": {
        "id": "tvgqSu3ax8k6"
      }
    },
    {
      "cell_type": "code",
      "source": [
        "def update_parameters(weight, bias, d_weight, d_bias, learning_rate):\n",
        "  updated_weight = weight - learning_rate * d_weight\n",
        "  updated_bias = bias - learning_rate * d_bias\n",
        "\n",
        "  return updated_weight, updated_bias\n",
        "\n"
      ],
      "metadata": {
        "id": "rWyNjE_zyCW4"
      },
      "execution_count": 20,
      "outputs": []
    },
    {
      "cell_type": "code",
      "source": [
        "learning_rate = 0.01"
      ],
      "metadata": {
        "id": "GwJMhIVd4flD"
      },
      "execution_count": 21,
      "outputs": []
    },
    {
      "cell_type": "code",
      "source": [
        "y_pred = forward_pass(batch_x, weight, bias)\n",
        "d_weight, d_bias = compute_gradients(batch_x, batch_y, y_pred)\n",
        "print(\"Current weight is \", weight)\n",
        "print(\"Current bias is \", bias)\n",
        "weight, bias = update_parameters(weight, bias, d_weight, d_bias, learning_rate)\n",
        "\n",
        "print(\"Updated weight is \", weight)\n",
        "print(\"Updated bias is \", bias)"
      ],
      "metadata": {
        "colab": {
          "base_uri": "https://localhost:8080/"
        },
        "id": "jYcV9d_F4hka",
        "outputId": "7e0bba1e-1bd8-4b2b-b87f-860c4a04463f"
      },
      "execution_count": 22,
      "outputs": [
        {
          "output_type": "stream",
          "name": "stdout",
          "text": [
            "Current weight is  -0.06985719172709007\n",
            "Current bias is  -1.333647536471217\n",
            "Updated weight is  -3.839020473194228\n",
            "Updated bias is  -1.9893711322465495\n"
          ]
        }
      ]
    },
    {
      "cell_type": "markdown",
      "source": [
        "# Track progress and observe convergence"
      ],
      "metadata": {
        "id": "5eDK8xl-yCpS"
      }
    },
    {
      "cell_type": "code",
      "source": [
        "epochs = 100\n",
        "batch_size = 32\n",
        "\n",
        "weight, bias = initialize_parameters()\n",
        "\n",
        "epoch_losses  = []\n",
        "\n",
        "for epoch in range(epochs):\n",
        "  mini_batches = create_mini_batches(data, batch_size)\n",
        "  epoch_loss = 0\n",
        "\n",
        "  for mini_batch in mini_batches:\n",
        "    batch_x = mini_batch[:,0].reshape(-1,1)\n",
        "    batch_y = mini_batch[:,1].reshape(-1,1)\n",
        "\n",
        "    y_pred = forward_pass(batch_x, weight, bias)\n",
        "    loss= calculate_mse(y_pred, batch_y)\n",
        "\n",
        "    epoch_loss = epoch_loss + loss*batch_x.shape[0]\n",
        "\n",
        "    d_weight, d_bias = compute_gradients(batch_x, batch_y, y_pred)\n",
        "\n",
        "    weight, bias = update_parameters(weight, bias, d_weight, d_bias, learning_rate)\n",
        "\n",
        "  epoch_loss = epoch_loss/len(data)\n",
        "\n",
        "  epoch_losses.append(epoch_loss)\n",
        "\n",
        "  if(epoch%10 == 0) or (epoch == epoch -1):\n",
        "    print(f\"Epoch {epoch + 1}/{epochs}; loss: {epoch_loss: .4f}\")\n",
        "\n",
        "\n",
        "\n",
        "import matplotlib.pyplot as plt\n",
        "\n",
        "\n",
        "plt.plot(range(1, epochs + 1), epoch_losses, label='Training Loss')\n",
        "plt.xlabel('Epoch')\n",
        "plt.ylabel('Mean Squared Error Loss')\n",
        "plt.title('Loss Convergence over Epochs')\n",
        "plt.legend()\n",
        "plt.show()"
      ],
      "metadata": {
        "colab": {
          "base_uri": "https://localhost:8080/",
          "height": 805
        },
        "id": "4wfhteA8yFKJ",
        "outputId": "348bead6-464b-4c7e-ed82-ba0a4ea1149c"
      },
      "execution_count": 24,
      "outputs": [
        {
          "output_type": "stream",
          "name": "stdout",
          "text": [
            "Epoch 1/100; loss:  4206722379802300.5000\n",
            "Epoch 11/100; loss:  743503320074259850976833326171836066397571586452627120567902738730205774462462329456405826305078632646489764527353896622336312425143258004587480112067055190016.0000\n",
            "Epoch 21/100; loss:  50507070359260502240957472164921005168007283646531973671893085066843033545607242381640308641428191804741465714557256779134307267547411511601971295449482288088827864278122668268283146454570459291633043724118784023060309473323519622157821658536888196964015967529169031055818921170051167799136460143067136.0000\n",
            "Epoch 31/100; loss:  inf\n",
            "Epoch 41/100; loss:  inf\n",
            "Epoch 51/100; loss:  inf\n",
            "Epoch 61/100; loss:  inf\n"
          ]
        },
        {
          "output_type": "stream",
          "name": "stderr",
          "text": [
            "<ipython-input-24-96b7f917649f>:19: RuntimeWarning: overflow encountered in scalar add\n",
            "  epoch_loss = epoch_loss + loss*batch_x.shape[0]\n",
            "/usr/local/lib/python3.10/dist-packages/numpy/core/_methods.py:118: RuntimeWarning: overflow encountered in reduce\n",
            "  ret = umr_sum(arr, axis, dtype, out, keepdims, where=where)\n",
            "<ipython-input-13-57bf62da4935>:6: RuntimeWarning: overflow encountered in square\n",
            "  mse = np.mean((y_pred - y_actual)**2)\n",
            "/usr/local/lib/python3.10/dist-packages/numpy/core/fromnumeric.py:88: RuntimeWarning: overflow encountered in reduce\n",
            "  return ufunc.reduce(obj, axis, dtype, out, **passkwargs)\n"
          ]
        },
        {
          "output_type": "stream",
          "name": "stdout",
          "text": [
            "Epoch 71/100; loss:  inf\n",
            "Epoch 81/100; loss:  inf\n",
            "Epoch 91/100; loss:  inf\n"
          ]
        },
        {
          "output_type": "display_data",
          "data": {
            "text/plain": [
              "<Figure size 640x480 with 1 Axes>"
            ],
            "image/png": "[encoded data removed]"
          },
          "metadata": {}
        }
      ]
    }
  ]
}